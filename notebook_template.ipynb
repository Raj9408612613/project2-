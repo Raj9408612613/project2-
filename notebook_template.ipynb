{
 "cells": [
  {
   "cell_type": "markdown",
   "metadata": {},
   "source": [
    "[![Open In Colab](https://colab.research.google.com/assets/colab-badge.svg)](https://colab.research.google.com/github/mongodb-developer/ai-agents-lab-notebooks/blob/main/notebook_template.ipynb)\n"
   ]
  },
  {
   "cell_type": "markdown",
   "metadata": {},
   "source": [
    "[![Lab Documentation and Solutions](https://img.shields.io/badge/Lab%20Documentation%20and%20Solutions-purple)](https://mongodb-developer.github.io/ai-agents-lab/)\n"
   ]
  },
  {
   "cell_type": "markdown",
   "metadata": {
    "id": "3kMALXaMv-MS"
   },
   "source": [
    "# Step 1: Install libraries\n"
   ]
  },
  {
   "cell_type": "code",
   "execution_count": 1,
   "metadata": {
    "colab": {
     "base_uri": "https://localhost:8080/"
    },
    "id": "cxTXczeTghzU",
    "outputId": "ae3a81b2-cba6-42fc-f593-8646bff77b14"
   },
   "outputs": [
    {
     "name": "stdout",
     "output_type": "stream",
     "text": [
      "\n",
      "\u001b[1m[\u001b[0m\u001b[34;49mnotice\u001b[0m\u001b[1;39;49m]\u001b[0m\u001b[39;49m A new release of pip is available: \u001b[0m\u001b[31;49m24.0\u001b[0m\u001b[39;49m -> \u001b[0m\u001b[32;49m24.2\u001b[0m\n",
      "\u001b[1m[\u001b[0m\u001b[34;49mnotice\u001b[0m\u001b[1;39;49m]\u001b[0m\u001b[39;49m To update, run: \u001b[0m\u001b[32;49mpip install --upgrade pip\u001b[0m\n"
     ]
    }
   ],
   "source": [
    "! pip install -qU pymongo langchain-fireworks langgraph sentence_transformers"
   ]
  },
  {
   "cell_type": "markdown",
   "metadata": {
    "id": "RM8rg08YhqZe"
   },
   "source": [
    "# Step 2: Setup prerequisites\n",
    "\n",
    "Replace:\n",
    "\n",
    "- `<MONGODB_URI>` with your **MongoDB connection string**\n",
    "- `<FIREWORKS_API_KEY>` with your **Fireworks API key**"
   ]
  },
  {
   "cell_type": "code",
   "execution_count": 2,
   "metadata": {},
   "outputs": [],
   "source": [
    "import os\n",
    "from pymongo import MongoClient"
   ]
  },
  {
   "cell_type": "code",
   "execution_count": 7,
   "metadata": {
    "id": "oXLWCWEghuOX"
   },
   "outputs": [
    {
     "data": {
      "text/plain": [
       "{'ok': 1.0,\n",
       " '$clusterTime': {'clusterTime': Timestamp(1729285364, 32),\n",
       "  'signature': {'hash': b'\\x08\\x85\\xc8x\\x04\\x98\\x03\\xeco!\\xcf\\xf6\\xdf\\xe4\\xd2Y\\x10I\\x07)',\n",
       "   'keyId': 7390069253761662978}},\n",
       " 'operationTime': Timestamp(1729285364, 32)}"
      ]
     },
     "execution_count": 7,
     "metadata": {},
     "output_type": "execute_result"
    }
   ],
   "source": [
    "# Retain the quotes (\"\") when pasting the URI\n",
    "MONGODB_URI = \"<MONGODB_URI>\"\n",
    "# Initialize a MongoDB Python client\n",
    "mongodb_client = MongoClient(MONGODB_URI, appname=\"devrel.workshop.agents\")\n",
    "# Check the connection to the server\n",
    "mongodb_client.admin.command(\"ping\")"
   ]
  },
  {
   "cell_type": "markdown",
   "metadata": {},
   "source": [
    "### **Do not change the values assigned to the variables below**"
   ]
  },
  {
   "cell_type": "code",
   "execution_count": 8,
   "metadata": {},
   "outputs": [],
   "source": [
    "#  Database name\n",
    "DB_NAME = \"mongodb_agents_lab\"\n",
    "# Name of the collection with full articles\n",
    "FULL_COLLECTION_NAME = \"full_articles\"\n",
    "# Name of the collection for vector search\n",
    "VS_COLLECTION_NAME = \"chunked_articles\"\n",
    "# Name of the vector search index\n",
    "VS_INDEX_NAME = \"vector_index\""
   ]
  },
  {
   "cell_type": "code",
   "execution_count": 9,
   "metadata": {},
   "outputs": [],
   "source": [
    "# Retain the quotes (\"\") when pasting the API key\n",
    "os.environ[\"FIREWORKS_API_KEY\"] = \"<FIREWORKS_API_KEY\""
   ]
  },
  {
   "cell_type": "markdown",
   "metadata": {
    "id": "UUf3jtFzO4-V"
   },
   "source": [
    "# Step 3: Import data\n",
    "\n",
    "Refer to the lab documentation for steps to important data for the agent to use.\n"
   ]
  },
  {
   "cell_type": "markdown",
   "metadata": {},
   "source": [
    "# Step 4: Create a vector search index"
   ]
  },
  {
   "cell_type": "code",
   "execution_count": 56,
   "metadata": {},
   "outputs": [],
   "source": [
    "# Create vector index definition specifying:\n",
    "# path: Path to the embeddings field\n",
    "# numDimensions: Number of embedding dimensions- depends on the embedding model used\n",
    "# similarity: Similarity metric. One of cosine, euclidean, dotProduct.\n",
    "model = {\n",
    "    \"name\": VS_INDEX_NAME,\n",
    "    \"type\": \"vectorSearch\",\n",
    "    \"definition\": {\n",
    "        \"fields\": [\n",
    "            {\n",
    "                \"type\": \"vector\",\n",
    "                \"path\": \"embedding\",\n",
    "                \"numDimensions\": 384,\n",
    "                \"similarity\": \"cosine\",\n",
    "            }\n",
    "        ]\n",
    "    },\n",
    "}"
   ]
  },
  {
   "cell_type": "code",
   "execution_count": 18,
   "metadata": {},
   "outputs": [],
   "source": [
    "vs_collection = mongodb_client[DB_NAME][VS_COLLECTION_NAME]"
   ]
  },
  {
   "cell_type": "code",
   "execution_count": null,
   "metadata": {},
   "outputs": [],
   "source": [
    "# Create a vector search index with the above definition for the `collection` collection\n",
    "vs_collection.create_search_index(model=model)"
   ]
  },
  {
   "cell_type": "markdown",
   "metadata": {
    "id": "pZfheX5FiIhU"
   },
   "source": [
    "# Step 5: Create agent tools\n"
   ]
  },
  {
   "cell_type": "code",
   "execution_count": 5,
   "metadata": {},
   "outputs": [
    {
     "name": "stderr",
     "output_type": "stream",
     "text": [
      "/Users/apoorva.joshi/Documents/ai-agents-lab-notebooks/.venv/lib/python3.12/site-packages/langchain/chains/api/base.py:56: LangChainDeprecationWarning: As of langchain-core 0.3.0, LangChain uses pydantic v2 internally. The langchain_core.pydantic_v1 module was a compatibility shim for pydantic v1, and should no longer be used. Please update the code to import from Pydantic directly.\n",
      "\n",
      "For example, replace imports like: `from langchain_core.pydantic_v1 import BaseModel`\n",
      "with: `from pydantic import BaseModel`\n",
      "or the v1 compatibility namespace if you are working in a code base that has not been fully upgraded to pydantic 2 yet. \tfrom pydantic.v1 import BaseModel\n",
      "\n",
      "  from langchain_community.utilities.requests import TextRequestsWrapper\n",
      "/Users/apoorva.joshi/Documents/ai-agents-lab-notebooks/.venv/lib/python3.12/site-packages/sentence_transformers/cross_encoder/CrossEncoder.py:13: TqdmWarning: IProgress not found. Please update jupyter and ipywidgets. See https://ipywidgets.readthedocs.io/en/stable/user_install.html\n",
      "  from tqdm.autonotebook import tqdm, trange\n"
     ]
    }
   ],
   "source": [
    "from langchain.agents import tool\n",
    "from sentence_transformers import SentenceTransformer\n",
    "from typing import List"
   ]
  },
  {
   "cell_type": "markdown",
   "metadata": {},
   "source": [
    "### Vector Search"
   ]
  },
  {
   "cell_type": "code",
   "execution_count": 11,
   "metadata": {},
   "outputs": [],
   "source": [
    "# Load the `gte-small` model using the Sentence Transformers library\n",
    "embedding_model = SentenceTransformer(\"thenlper/gte-small\")"
   ]
  },
  {
   "cell_type": "code",
   "execution_count": 12,
   "metadata": {},
   "outputs": [],
   "source": [
    "# Define a function that takes a piece of text (`text`) as input, embeds it using the `embedding_model` instantiated above and returns the embedding as a list\n",
    "# An array can be converted to a list using the `tolist()` method\n",
    "def get_embedding(text: str) -> List[float]:\n",
    "    \"\"\"\n",
    "    Generate the embedding for a piece of text.\n",
    "\n",
    "    Args:\n",
    "        text (str): Text to embed.\n",
    "\n",
    "    Returns:\n",
    "        List[float]: Embedding of the text as a list.\n",
    "    \"\"\"\n",
    "    embedding = embedding_model.encode(text)\n",
    "    return embedding.tolist()"
   ]
  },
  {
   "cell_type": "code",
   "execution_count": 113,
   "metadata": {},
   "outputs": [],
   "source": [
    "# Define a tool to retrieve relevant documents for a user query using vector search\n",
    "@tool\n",
    "def get_information_for_question_answering(user_query: str) -> str:\n",
    "    \"\"\"\n",
    "    Retrieve information using vector search to answer a user query.\n",
    "\n",
    "    Args:\n",
    "    user_query (str): The user's query string.\n",
    "\n",
    "    Returns:\n",
    "    str: The retrieved information formatted as a string.\n",
    "    \"\"\"\n",
    "\n",
    "    # Generate embedding for the `user_query` using the `get_embedding` function defined in Step 5\n",
    "    query_embedding = get_embedding(user_query)\n",
    "\n",
    "    # Define an aggregation pipeline consisting of a $vectorSearch stage, followed by a $project stage\n",
    "    # Set the number of candidates to 150 and only return the top 5 documents from the vector search\n",
    "    # In the $project stage, exclude the `_id` field and include only the `body` field and `vectorSearchScore`\n",
    "    # NOTE: Use variables defined previously for the `index`, `queryVector` and `path` fields in the $vectorSearch stage\n",
    "    pipeline = [\n",
    "        {\n",
    "            \"$vectorSearch\": {\n",
    "                \"index\": VS_INDEX_NAME,\n",
    "                \"path\": \"embedding\",\n",
    "                \"queryVector\": query_embedding,\n",
    "                \"numCandidates\": 150,\n",
    "                \"limit\": 5,\n",
    "            }\n",
    "        },\n",
    "        {\n",
    "            \"$project\": {\n",
    "                \"_id\": 0,\n",
    "                \"body\": 1,\n",
    "                \"score\": {\"$meta\": \"vectorSearchScore\"},\n",
    "            }\n",
    "        },\n",
    "    ]\n",
    "\n",
    "    # Execute the aggregation `pipeline` and store the results in `results`\n",
    "    results = vs_collection.aggregate(pipeline)\n",
    "    context = \"\\n\\n\".join([doc.get(\"body\") for doc in results])\n",
    "    return context"
   ]
  },
  {
   "cell_type": "markdown",
   "metadata": {},
   "source": [
    "### Get article content"
   ]
  },
  {
   "cell_type": "code",
   "execution_count": 14,
   "metadata": {},
   "outputs": [],
   "source": [
    "full_collection = mongodb_client[DB_NAME][FULL_COLLECTION_NAME]"
   ]
  },
  {
   "cell_type": "code",
   "execution_count": 114,
   "metadata": {},
   "outputs": [],
   "source": [
    "@tool\n",
    "def get_article_content_for_summarization(user_query: str) -> str:\n",
    "    \"\"\"\n",
    "    Retrieve article content based on provided title.\n",
    "\n",
    "    Args:\n",
    "    user_query (str): The user's query string i.e. title of the article.\n",
    "\n",
    "    Returns:\n",
    "    str: The content of the article.\n",
    "    \"\"\"\n",
    "    projection = {\"_id\": 0, \"body\": 1}\n",
    "    query = {\"title\": user_query}\n",
    "    document = full_collection.find_one(query, projection)\n",
    "    if document:\n",
    "        return document[\"body\"]\n",
    "    else:\n",
    "        return \"Article not found\""
   ]
  },
  {
   "cell_type": "code",
   "execution_count": 115,
   "metadata": {},
   "outputs": [],
   "source": [
    "# Create the list of tools\n",
    "tools = [\n",
    "    get_information_for_question_answering,\n",
    "    get_article_content_for_summarization,\n",
    "]"
   ]
  },
  {
   "cell_type": "markdown",
   "metadata": {},
   "source": [
    "### Test out the tools\n"
   ]
  },
  {
   "cell_type": "code",
   "execution_count": 116,
   "metadata": {},
   "outputs": [
    {
     "data": {
      "text/plain": [
       "'To create a new database trigger, you will need to:\\n\\n1. Click the **Data Services** tab in the top navigation of your screen if you haven\\'t already navigated to Atlas.\\n2. Click **Triggers** in the left-hand navigation.\\n3. On the **Overview** tab of the **Triggers** page, click **Add Trigger** to open the trigger configuration page.\\n4. Enter the configuration values for the trigger and click **Save** at the bottom of the page.\\n\\nPlease note that this trigger will make use of the *event ordering* as we want the operations to be processed according to when they were performed. \\n\\nThe trigger configuration values will look like this: \\n\\n using the UI, we need to:   \\n\\n1. Click the **Data Services** tab in the top navigation of your screen if you haven\\'t already navigated to Atlas.\\n\\n2. Click **Functions** in the left navigation menu.\\n\\n# How to Send MongoDB Document Changes to a Slack Channel\\n\\nIn this tutorial, we will explore a seamless integration of your database with Slack using Atlas Triggers and the Slack API. Discover how to effortlessly send notifications to your desired Slack channels, effectively connecting the operations happening within your collections and relaying them in real-time updates. \\n\\nThe overall flow will be: \\n\\n.\\n\\nOnce this has been completed, we are ready to start creating our first database trigger that will react every time there is an operation in a certain collection. \\n\\n## Atlas trigger\\n\\nFor this tutorial, we will create a trigger that monitors all changes in a `test` collection for `insert`, `update`, and `delete` operations.\\n\\nTo create a new database trigger, you will need to:\\n\\n>Log in today to get started. Atlas Stream Processing is available to all developers in Atlas. Give it a try today!\\n\\n  [1]: https://images.contentstack.io/v3/assets/blt39790b633ee0d5a7/blt73ff54f0367cad3b/650da3ef69060a5678fc1242/image1.jpg\\n  [2]: https://images.contentstack.io/v3/assets/blt39790b633ee0d5a7/blt833bc1a824472d14/650da41aa5f15dea3afc5b55/image3.jpg\\n\\n. \\n\\n> Log in today to get started. Atlas Stream Processing is now available to all developers in Atlas. Give it a try today!\\n\\nto only detect certain changes and then adapt the change event to only receive certain fields with a \"$project\".\\n\\n## Conclusion\\n\\nIn this tutorial, we\\'ve learned how to seamlessly integrate your database with Slack using Atlas Triggers and the Slack API. This integration allows you to send real-time notifications to your Slack channels, keeping your team informed about important operations within your database collections.\\n\\nWe started by creating a new application in Atlas and then set up a database trigger that reacts to specific collection operations. We explored the `processEvent` function, which processes change events and prepares the data for Slack notifications. Through a step-by-step process, we demonstrated how to create a message and use the Slack API to post it to a specific channel.\\n\\nNow that you\\'ve grasped the basics, it\\'s time to take your integration skills to the next level. Here are some steps you can follow:'"
      ]
     },
     "execution_count": 116,
     "metadata": {},
     "output_type": "execute_result"
    }
   ],
   "source": [
    "# Test out the `vector_search` tool\n",
    "get_information_for_question_answering.invoke(\"Atlas Triggers\")"
   ]
  },
  {
   "cell_type": "code",
   "execution_count": 117,
   "metadata": {},
   "outputs": [
    {
     "data": {
      "text/plain": [
       "'# How to Model Your Documents for Vector Search\\n\\nAtlas Vector Search was recently released, so let’s dive into a tutorial on how to properly model your documents when utilizing vector search to revolutionize your querying capabilities!\\n\\n## Data modeling normally in MongoDB\\n\\nVector search is new, so let’s first go over the basic ways of modeling your data in a MongoDB document before continuing on into how to incorporate vector embeddings. \\n\\nData modeling in MongoDB revolves around organizing your data into documents within various collections. Varied projects or organizations will require different ways of structuring data models due to the fact that successful data modeling depends on the specific requirements of each application, and for the most part, no one document design can be applied for every situation. There are some commonalities, though, that can guide the user. These are:\\n\\n 1. Choosing whether to embed or reference your related data. \\n 2. Using arrays in a document.\\n 3. Indexing your documents (finding fields that are frequently used and applying the appropriate indexing, etc.).\\n\\nFor a more in-depth explanation and a comprehensive guide of data modeling with MongoDB, please check out our data modeling article.\\n\\n## Setting up an example data model\\n\\nWe are going to be building our vector embedding example using a MongoDB document for our MongoDB TV series. Here, we have a single MongoDB document representing our MongoDB TV show, without any embeddings in place. We have a nested array featuring our array of seasons, and within that, our array of different episodes. This way, in our document, we are capable of seeing exactly which season each episode is a part of, along with the episode number, the title, the description, and the date: \\n\\n```\\n{\\n   \"_id\": ObjectId(\"238478293\"),\\n   \"title\": \"MongoDB TV\",\\n   \"description\": \"All your MongoDB updates, news, videos, and podcast episodes, straight to you!\",\\n   \"genre\": \"Programming\", \"Database\", \"MongoDB\"],\\n   \"seasons\": [\\n      {\\n         \"seasonNumber\": 1,\\n         \"episodes\": [\\n            {\\n               \"episodeNumber\": 1,\\n               \"title\": \"EASY: Build Generative AI Applications\",\\n               \"description\": \"Join Jesse Hall….\",\\n               \"date\": ISODate(\"Oct52023\")\\n            },\\n            {\\n               \"episodeNumber\": 2,\\n               \"title\": \"RAG Architecture & MongoDB: The Future of Generative AI Apps\",\\n               \"description\": \"Join Prakul Agarwal…\",\\n               \"date\": ISODate(\"Oct42023\")\\n            }\\n         ]\\n      },\\n      {\\n         \"seasonNumber\": 2,\\n         \"episodes\": [\\n            {\\n               \"episodeNumber\": 1,\\n               \"title\": \"Cloud Connect - Harness the Power of AI/ML and Generative AI on AWS with MongoDB Atlas\",\\n               \"description\": \"Join Igor Alekseev….\",\\n               \"date\": ISODate(\"Oct32023\")\\n            },\\n            {\\n               \"episodeNumber\": 2,\\n               \"title\": \"The Index: Here’s what you missed last week…\",\\n               \"description\": \"Join Megan Grant…\",\\n               \"date\": ISODate(\"Oct22023\")\\n            }\\n         ]\\n      }\\n   ]\\n}\\n```\\n\\nNow that we have our example set up, let’s incorporate vector embeddings and discuss the proper techniques to set you up for success.\\n\\n## Integrating vector embeddings for vector search in our data model \\n\\nLet’s first understand exactly what vector search is: Vector search is the way to search based on *meaning* rather than specific words. This comes in handy when querying using similarities rather than searching based on keywords. When using vector search, you can query using a question or a phrase rather than just a word. In a nutshell, vector search is great for when you can’t think of *exactly* that book or movie, but you remember the plot or the climax. \\n\\nThis process happens when text, video, or audio is transformed via an encoder into vectors. With MongoDB, we can do this using OpenAI, Hugging Face, or other natural language processing models. Once we have our vectors, we can upload them in the base of our document and conduct vector search using them. Please keep in mind the [current limitations of vector search and how to properly embed your vectors. \\n\\nYou can store your vector embeddings alongside other data in your document, or you can store them in a new collection. It is really up to the user and the project goals. Let’s go over what a document with vector embeddings can look like when you incorporate them into your data model, using the same example from above: \\n\\n```\\n{\\n   \"_id\": ObjectId(\"238478293\"),\\n   \"title\": \"MongoDB TV\",\\n   \"description\": \"All your MongoDB updates, news, videos, and podcast episodes, straight to you!\",\\n   \"genre\": \"Programming\", \"Database\", \"MongoDB\"],\\n   “vectorEmbeddings”: [ 0.25, 0.5, 0.75, 0.1, 0.1, 0.8, 0.2, 0.6, 0.6, 0.4, 0.9, 0.3, 0.2, 0.7, 0.5, 0.8, 0.1, 0.8, 0.2, 0.6 ],\\n   \"seasons\": [\\n      {\\n         \"seasonNumber\": 1,\\n         \"episodes\": [\\n            {\\n               \"episodeNumber\": 1,\\n               \"title\": \"EASY: Build Generative AI Applications\",\\n               \"description\": \"Join Jesse Hall….\",\\n               \"date\": ISODate(\"Oct 5, 2023\")\\n \\n            },\\n            {\\n               \"episodeNumber\": 2,\\n               \"title\": \"RAG Architecture & MongoDB: The Future of Generative AI Apps\",\\n               \"description\": \"Join Prakul Agarwal…\",\\n               \"date\": ISODate(\"Oct 4, 2023\")\\n            }\\n         ]\\n      },\\n      {\\n         \"seasonNumber\": 2,\\n         \"episodes\": [\\n            {\\n               \"episodeNumber\": 1,\\n               \"title\": \"Cloud Connect - Harness the Power of AI/ML and Generative AI on AWS with MongoDB Atlas\",\\n               \"description\": \"Join Igor Alekseev….\",\\n               \"date\": ISODate(\"Oct 3, 2023\")\\n            },\\n            {\\n               \"episodeNumber\": 2,\\n               \"title\": \"The Index: Here’s what you missed last week…\",\\n               \"description\": \"Join Megan Grant…\",\\n               \"date\": ISODate(\"Oct 2, 2023\")\\n            }\\n         ]\\n      }\\n   ]\\n}\\n```\\nHere, you have your vector embeddings classified at the base in your document. Currently, there is a limitation where vector embeddings cannot be nested in an array in your document. Please ensure your document has your embeddings at the base. There are various tutorials on our [Developer Center, alongside our YouTube account and our documentation, that can help you figure out how to embed these vectors into your document and how to acquire the necessary vectors in the first place. \\n\\n## Extras: Indexing with vector search\\n\\nWhen you’re using vector search, it is necessary to create a search index so you’re able to be successful with your semantic search. To do this, please view our Vector Search documentation. Here is the skeleton code provided by our documentation:\\n\\n```\\n{\\n  \"fields\":\\n    {\\n      \"type\": \"vector\",\\n      \"path\": \"\",\\n      \"numDimensions\": ,\\n      \"similarity\": \"euclidean | cosine | dotProduct\"\\n    },\\n    {\\n      \"type\": \"filter\",\\n      \"path\": \"\"\\n    },\\n    ...\\n  ]\\n}\\n```\\n\\nWhen setting up your search index, you want to change the “” to be your vector path. In our case, it would be “vectorEmbeddings”. “type” can stay the way it is. For “numDimensions”, please match the dimensions of the model you’ve chosen. This is just the number of vector dimensions, and the value cannot be greater than 4096. This limitation comes from the base embedding model that is being used, so please ensure you’re using a supported LLM (large language model) such as OpenAI or Hugging Face. When using one of these, there won’t be any issues running into vector dimensions. For “similarity”, please pick which vector function you want to use to search for the top K-nearest neighbors. \\n\\n## Extras: Querying with vector search\\n\\nWhen you’re ready to query and find results from your embedded documents, it’s time to create an aggregation pipeline on your embedded vector data. To do this, you can use the“$vectorSearch” operator, which is a new aggregation stage in Atlas. It helps execute an Approximate Nearest Neighbor query. \\n\\nFor more information on this step, please check out the tutorial on Developer Center about [building generative AI applications, and our YouTube video on vector search.\\n\\n'"
      ]
     },
     "execution_count": 117,
     "metadata": {},
     "output_type": "execute_result"
    }
   ],
   "source": [
    "# Test out the `get_article` tool with article name \"Using MongoDB Atlas Triggers to Summarize Airbnb Reviews with OpenAI\"\n",
    "get_article_content_for_summarization.invoke(\n",
    "    \"How to Model Your Documents for Vector Search\"\n",
    ")"
   ]
  },
  {
   "cell_type": "markdown",
   "metadata": {},
   "source": [
    "# Step 6: Define graph state"
   ]
  },
  {
   "cell_type": "code",
   "execution_count": 21,
   "metadata": {},
   "outputs": [],
   "source": [
    "from typing import Annotated\n",
    "from langgraph.graph.message import add_messages\n",
    "from typing_extensions import TypedDict"
   ]
  },
  {
   "cell_type": "code",
   "execution_count": 22,
   "metadata": {},
   "outputs": [],
   "source": [
    "class GraphState(TypedDict):\n",
    "    messages: Annotated[list, add_messages]"
   ]
  },
  {
   "cell_type": "markdown",
   "metadata": {},
   "source": [
    "# Step 7: Instantiate the LLM"
   ]
  },
  {
   "cell_type": "code",
   "execution_count": 118,
   "metadata": {},
   "outputs": [],
   "source": [
    "from langchain_fireworks import ChatFireworks\n",
    "from langchain_core.prompts import ChatPromptTemplate, MessagesPlaceholder"
   ]
  },
  {
   "cell_type": "code",
   "execution_count": 119,
   "metadata": {},
   "outputs": [],
   "source": [
    "llm = ChatFireworks(model=\"accounts/fireworks/models/firefunction-v2\", temperature=0.0)"
   ]
  },
  {
   "cell_type": "code",
   "execution_count": 120,
   "metadata": {},
   "outputs": [],
   "source": [
    "prompt = ChatPromptTemplate.from_messages(\n",
    "    [\n",
    "        (\n",
    "            \"You are a helpful AI assistant.\"\n",
    "            \" You are provided with tools to answer questions and summarize articles related to MongoDB.\"\n",
    "            \" Use these tools to get the information required to answer the user query.\"\n",
    "            \" Do not re-run tools unless absolutely necessary.\"\n",
    "            \" If you are not able to get enough information using the tools, reply with I DON'T KNOW.\"\n",
    "            \" You have access to the following tools: {tool_names}.\"\n",
    "        ),\n",
    "        MessagesPlaceholder(variable_name=\"messages\"),\n",
    "    ]\n",
    ")\n",
    "prompt = prompt.partial(tool_names=\", \".join([tool.name for tool in tools]))\n",
    "llm_with_tools = prompt | llm.bind_tools(tools)"
   ]
  },
  {
   "cell_type": "code",
   "execution_count": 121,
   "metadata": {},
   "outputs": [
    {
     "data": {
      "text/plain": [
       "[{'name': 'get_article_content_for_summarization',\n",
       "  'args': {'user_query': 'How to Model Your Documents for Vector Search'},\n",
       "  'id': 'call_uCbW6P1hq742nvFaH6lEyQJ2',\n",
       "  'type': 'tool_call'}]"
      ]
     },
     "execution_count": 121,
     "metadata": {},
     "output_type": "execute_result"
    }
   ],
   "source": [
    "llm_with_tools.invoke(\n",
    "    [\n",
    "        \"Give me a summary of the article titled How to Model Your Documents for Vector Search\"\n",
    "    ]\n",
    ").tool_calls"
   ]
  },
  {
   "cell_type": "code",
   "execution_count": 122,
   "metadata": {},
   "outputs": [
    {
     "data": {
      "text/plain": [
       "[{'name': 'get_information_for_question_answering',\n",
       "  'args': {'user_query': 'What are Atlas Triggers'},\n",
       "  'id': 'call_H5TttXb423JfoulF1qVfPN3m',\n",
       "  'type': 'tool_call'}]"
      ]
     },
     "execution_count": 122,
     "metadata": {},
     "output_type": "execute_result"
    }
   ],
   "source": [
    "llm_with_tools.invoke([\"What are Atlas Triggers?\"]).tool_calls"
   ]
  },
  {
   "cell_type": "markdown",
   "metadata": {},
   "source": [
    "# Step 8: Define graph nodes"
   ]
  },
  {
   "cell_type": "code",
   "execution_count": 123,
   "metadata": {},
   "outputs": [],
   "source": [
    "from langchain_core.messages import ToolMessage"
   ]
  },
  {
   "cell_type": "code",
   "execution_count": 124,
   "metadata": {},
   "outputs": [],
   "source": [
    "def agent(state: GraphState):\n",
    "    messages = state[\"messages\"]\n",
    "    result = llm_with_tools.invoke(messages)\n",
    "    return {\"messages\": [result]}"
   ]
  },
  {
   "cell_type": "code",
   "execution_count": 147,
   "metadata": {},
   "outputs": [],
   "source": [
    "tools_by_name = {tool.name: tool for tool in tools}"
   ]
  },
  {
   "cell_type": "code",
   "execution_count": 148,
   "metadata": {},
   "outputs": [],
   "source": [
    "def tool_node(state: GraphState):\n",
    "    result = []\n",
    "    tool_calls = state[\"messages\"][-1].tool_calls\n",
    "    for tool_call in tool_calls:\n",
    "        tool = tools_by_name[tool_call[\"name\"]]\n",
    "        observation = tool.invoke(tool_call[\"args\"])\n",
    "        result.append(ToolMessage(content=observation, tool_call_id=tool_call[\"id\"]))\n",
    "    return {\"messages\": result}"
   ]
  },
  {
   "cell_type": "markdown",
   "metadata": {},
   "source": [
    "# Step 9: Define conditional edges"
   ]
  },
  {
   "cell_type": "code",
   "execution_count": 149,
   "metadata": {},
   "outputs": [],
   "source": [
    "from langgraph.graph import END"
   ]
  },
  {
   "cell_type": "code",
   "execution_count": 150,
   "metadata": {},
   "outputs": [],
   "source": [
    "def route_tools(state: GraphState):\n",
    "    \"\"\"\n",
    "    Use in the conditional_edge to route to the ToolNode if the last message\n",
    "    has tool calls. Otherwise, route to the end.\n",
    "    \"\"\"\n",
    "    messages = state.get(\"messages\", [])\n",
    "    if len(messages) > 0:\n",
    "        ai_message = messages[-1]\n",
    "    else:\n",
    "        raise ValueError(f\"No messages found in input state to tool_edge: {state}\")\n",
    "    if hasattr(ai_message, \"tool_calls\") and len(ai_message.tool_calls) > 0:\n",
    "        return \"tools\"\n",
    "    return END"
   ]
  },
  {
   "cell_type": "markdown",
   "metadata": {},
   "source": [
    "# Step 10: Build the graph"
   ]
  },
  {
   "cell_type": "code",
   "execution_count": 151,
   "metadata": {},
   "outputs": [],
   "source": [
    "from langgraph.graph import StateGraph, START\n",
    "from IPython.display import Image, display"
   ]
  },
  {
   "cell_type": "code",
   "execution_count": 152,
   "metadata": {},
   "outputs": [],
   "source": [
    "workflow = StateGraph(GraphState)"
   ]
  },
  {
   "cell_type": "code",
   "execution_count": 153,
   "metadata": {},
   "outputs": [
    {
     "data": {
      "text/plain": [
       "<langgraph.graph.state.StateGraph at 0x338360b60>"
      ]
     },
     "execution_count": 153,
     "metadata": {},
     "output_type": "execute_result"
    }
   ],
   "source": [
    "# Add nodes\n",
    "workflow.add_node(\"agent\", agent)\n",
    "workflow.add_node(\"tools\", tool_node)"
   ]
  },
  {
   "cell_type": "code",
   "execution_count": 154,
   "metadata": {},
   "outputs": [
    {
     "data": {
      "text/plain": [
       "<langgraph.graph.state.StateGraph at 0x338360b60>"
      ]
     },
     "execution_count": 154,
     "metadata": {},
     "output_type": "execute_result"
    }
   ],
   "source": [
    "# Add edges\n",
    "workflow.add_edge(START, \"agent\")\n",
    "workflow.add_edge(\"tools\", \"agent\")\n",
    "workflow.add_conditional_edges(\n",
    "    \"agent\",\n",
    "    route_tools,\n",
    "    {\"tools\": \"tools\", END: END},\n",
    ")"
   ]
  },
  {
   "cell_type": "code",
   "execution_count": 155,
   "metadata": {},
   "outputs": [],
   "source": [
    "app = workflow.compile()"
   ]
  },
  {
   "cell_type": "code",
   "execution_count": 156,
   "metadata": {},
   "outputs": [
    {
     "data": {
      "image/jpeg": "[encoded data removed]",
      "text/plain": [
       "<IPython.core.display.Image object>"
      ]
     },
     "metadata": {},
     "output_type": "display_data"
    }
   ],
   "source": [
    "try:\n",
    "    display(Image(app.get_graph().draw_mermaid_png()))\n",
    "except Exception:\n",
    "    # This requires some extra dependencies and is optional\n",
    "    pass"
   ]
  },
  {
   "cell_type": "markdown",
   "metadata": {},
   "source": [
    "# Step 11: Execute the graph"
   ]
  },
  {
   "cell_type": "code",
   "execution_count": 157,
   "metadata": {},
   "outputs": [],
   "source": [
    "def execute_graph(user_input: str):\n",
    "    input = {\"messages\": [(\"user\", user_input)]}\n",
    "    for output in app.stream(input):\n",
    "        for key, value in output.items():\n",
    "            print(f\"Node {key}:\")\n",
    "            print(value)\n",
    "    print(\"---FINAL ANSWER---\")\n",
    "    print(value[\"messages\"][-1].content)"
   ]
  },
  {
   "cell_type": "code",
   "execution_count": 158,
   "metadata": {},
   "outputs": [
    {
     "name": "stdout",
     "output_type": "stream",
     "text": [
      "Node agent:\n",
      "{'messages': [AIMessage(content='', additional_kwargs={'tool_calls': [{'index': 0, 'id': 'call_YMwF0mh53h7CQDdmEi2a0aZZ', 'type': 'function', 'function': {'name': 'get_information_for_question_answering', 'arguments': '{\"user_query\": \"What are MongoDB Atlas Triggers\"}'}}]}, response_metadata={'token_usage': {'prompt_tokens': 586, 'total_tokens': 617, 'completion_tokens': 31}, 'model_name': 'accounts/fireworks/models/firefunction-v2', 'system_fingerprint': '', 'finish_reason': 'tool_calls', 'logprobs': None}, id='run-be66e92b-09d9-47b1-a776-54513ed1c111-0', tool_calls=[{'name': 'get_information_for_question_answering', 'args': {'user_query': 'What are MongoDB Atlas Triggers'}, 'id': 'call_YMwF0mh53h7CQDdmEi2a0aZZ', 'type': 'tool_call'}], usage_metadata={'input_tokens': 586, 'output_tokens': 31, 'total_tokens': 617})]}\n",
      "Node tools:\n",
      "{'messages': [ToolMessage(content='# How to Send MongoDB Document Changes to a Slack Channel\\n\\nIn this tutorial, we will explore a seamless integration of your database with Slack using Atlas Triggers and the Slack API. Discover how to effortlessly send notifications to your desired Slack channels, effectively connecting the operations happening within your collections and relaying them in real-time updates. \\n\\nThe overall flow will be: \\n\\n.\\n\\nOnce this has been completed, we are ready to start creating our first database trigger that will react every time there is an operation in a certain collection. \\n\\n## Atlas trigger\\n\\nFor this tutorial, we will create a trigger that monitors all changes in a `test` collection for `insert`, `update`, and `delete` operations.\\n\\nTo create a new database trigger, you will need to:\\n\\nTo create a new database trigger, you will need to:\\n\\n1. Click the **Data Services** tab in the top navigation of your screen if you haven\\'t already navigated to Atlas.\\n2. Click **Triggers** in the left-hand navigation.\\n3. On the **Overview** tab of the **Triggers** page, click **Add Trigger** to open the trigger configuration page.\\n4. Enter the configuration values for the trigger and click **Save** at the bottom of the page.\\n\\nPlease note that this trigger will make use of the *event ordering* as we want the operations to be processed according to when they were performed. \\n\\nThe trigger configuration values will look like this: \\n\\n using the UI, we need to:   \\n\\n1. Click the **Data Services** tab in the top navigation of your screen if you haven\\'t already navigated to Atlas.\\n\\n2. Click **Functions** in the left navigation menu.\\n\\n# How to Deploy MongoDB Atlas with AWS CloudFormation\\n\\nMongoDB Atlas is the multi-cloud developer data platform that provides an integrated suite of cloud database and data services. We help to accelerate and simplify how you build resilient and performant global applications on the cloud provider of your choice.\\n\\nAWS CloudFormation lets you model, provision, and manage AWS and third-party resources like MongoDB Atlas by treating infrastructure as code (IaC). CloudFormation templates are written in either JSON or YAML. \\n\\nWhile there are multiple ways to use CloudFormation to provision and manage your Atlas clusters, such as with Partner Solution Deployments or the AWS CDK, today we’re going to go over how to create your first YAML CloudFormation templates to deploy Atlas clusters with CloudFormation.\\n\\nThese pre-made templates directly leverage MongoDB Atlas resources from the CloudFormation Public Registry and execute via the AWS CLI/AWS Management Console. Using these is best for users who seek to be tightly integrated into AWS with fine-grained access controls. \\n\\nLet’s get started! \\n\\n*Prerequisites:* \\n\\n- Install and configure an AWS Account and the AWS CLI.\\n- Install and configure the MongoDB Atlas CLI (optional but recommended). \\n\\n## Step 1: Create a MongoDB Atlas account\\n\\nSign up for a free MongoDB Atlas account, verify your email address, and log into your new account.\\n\\nAlready have an AWS account? Atlas supports paying for usage via the AWS Marketplace (AWS MP) without any upfront commitment — simply sign up for MongoDB Atlas via AWS Marketplace.\\n\\nand contact AWS support directly, who can help confirm the CIDR range to be used in your Atlas PAK IP Whitelist. \\n\\n on MongoDB Atlas.\\n\\n### Tutorial Prerequisites \\nThis is what you\\'ll need to follow along:\\n* An Atlas user with atlasAdmin permission. For the purposes of this tutorial, we\\'ll have the user \"tutorialuser\". \\n* MongoDB shell (Mongosh) version 2.0+\\n\\n## Create the Stream Processing Instance \\n\\nLet\\'s first create a Stream Processing Instance (SPI). Think of an SPI as a logical grouping of one or more stream processors. When created, the SPI has a connection string similar to a typical MongoDB Atlas cluster. \\n\\nUnder the Services tab in the Atlas Project click, \"Stream Processing\". Then click the \"Create Instance\" button. \\n\\nThis will launch the Create Instance dialog. \\n\\nEnter your desired cloud provider and region, and then click \"Create\". You will receive a confirmation dialog upon successful creation. \\n\\n## Configure the connection registry', id='9d03729e-6e07-4f82-b4ba-d120a1e9f42c', tool_call_id='call_YMwF0mh53h7CQDdmEi2a0aZZ')]}\n",
      "Node agent:\n",
      "{'messages': [AIMessage(content='MongoDB Atlas Triggers are a feature that allows you to create triggers that react to changes in your MongoDB Atlas collections. These triggers can be used to send notifications to Slack channels, for example.', additional_kwargs={}, response_metadata={'token_usage': {'prompt_tokens': 1468, 'total_tokens': 1508, 'completion_tokens': 40}, 'model_name': 'accounts/fireworks/models/firefunction-v2', 'system_fingerprint': '', 'finish_reason': 'stop', 'logprobs': None}, id='run-25bb3cc3-f675-41a0-b605-b57acae58a80-0', usage_metadata={'input_tokens': 1468, 'output_tokens': 40, 'total_tokens': 1508})]}\n",
      "---FINAL ANSWER---\n",
      "MongoDB Atlas Triggers are a feature that allows you to create triggers that react to changes in your MongoDB Atlas collections. These triggers can be used to send notifications to Slack channels, for example.\n"
     ]
    }
   ],
   "source": [
    "execute_graph(\"What are MongoDB Atlas Triggers?\")"
   ]
  },
  {
   "cell_type": "code",
   "execution_count": 159,
   "metadata": {},
   "outputs": [
    {
     "name": "stdout",
     "output_type": "stream",
     "text": [
      "Node agent:\n",
      "{'messages': [AIMessage(content='', additional_kwargs={'tool_calls': [{'index': 0, 'id': 'call_NWL9UoWSz69CJMuWgEp1L3M4', 'type': 'function', 'function': {'name': 'get_article_content_for_summarization', 'arguments': '{\"user_query\": \"How to Model Your Documents for Vector Search\"}'}}]}, response_metadata={'token_usage': {'prompt_tokens': 595, 'total_tokens': 628, 'completion_tokens': 33}, 'model_name': 'accounts/fireworks/models/firefunction-v2', 'system_fingerprint': '', 'finish_reason': 'tool_calls', 'logprobs': None}, id='run-b7195585-a225-4c19-8c97-d1ca2343c6ef-0', tool_calls=[{'name': 'get_article_content_for_summarization', 'args': {'user_query': 'How to Model Your Documents for Vector Search'}, 'id': 'call_NWL9UoWSz69CJMuWgEp1L3M4', 'type': 'tool_call'}], usage_metadata={'input_tokens': 595, 'output_tokens': 33, 'total_tokens': 628})]}\n",
      "Node tools:\n",
      "{'messages': [ToolMessage(content='# How to Model Your Documents for Vector Search\\n\\nAtlas Vector Search was recently released, so let’s dive into a tutorial on how to properly model your documents when utilizing vector search to revolutionize your querying capabilities!\\n\\n## Data modeling normally in MongoDB\\n\\nVector search is new, so let’s first go over the basic ways of modeling your data in a MongoDB document before continuing on into how to incorporate vector embeddings. \\n\\nData modeling in MongoDB revolves around organizing your data into documents within various collections. Varied projects or organizations will require different ways of structuring data models due to the fact that successful data modeling depends on the specific requirements of each application, and for the most part, no one document design can be applied for every situation. There are some commonalities, though, that can guide the user. These are:\\n\\n 1. Choosing whether to embed or reference your related data. \\n 2. Using arrays in a document.\\n 3. Indexing your documents (finding fields that are frequently used and applying the appropriate indexing, etc.).\\n\\nFor a more in-depth explanation and a comprehensive guide of data modeling with MongoDB, please check out our data modeling article.\\n\\n## Setting up an example data model\\n\\nWe are going to be building our vector embedding example using a MongoDB document for our MongoDB TV series. Here, we have a single MongoDB document representing our MongoDB TV show, without any embeddings in place. We have a nested array featuring our array of seasons, and within that, our array of different episodes. This way, in our document, we are capable of seeing exactly which season each episode is a part of, along with the episode number, the title, the description, and the date: \\n\\n```\\n{\\n   \"_id\": ObjectId(\"238478293\"),\\n   \"title\": \"MongoDB TV\",\\n   \"description\": \"All your MongoDB updates, news, videos, and podcast episodes, straight to you!\",\\n   \"genre\": \"Programming\", \"Database\", \"MongoDB\"],\\n   \"seasons\": [\\n      {\\n         \"seasonNumber\": 1,\\n         \"episodes\": [\\n            {\\n               \"episodeNumber\": 1,\\n               \"title\": \"EASY: Build Generative AI Applications\",\\n               \"description\": \"Join Jesse Hall….\",\\n               \"date\": ISODate(\"Oct52023\")\\n            },\\n            {\\n               \"episodeNumber\": 2,\\n               \"title\": \"RAG Architecture & MongoDB: The Future of Generative AI Apps\",\\n               \"description\": \"Join Prakul Agarwal…\",\\n               \"date\": ISODate(\"Oct42023\")\\n            }\\n         ]\\n      },\\n      {\\n         \"seasonNumber\": 2,\\n         \"episodes\": [\\n            {\\n               \"episodeNumber\": 1,\\n               \"title\": \"Cloud Connect - Harness the Power of AI/ML and Generative AI on AWS with MongoDB Atlas\",\\n               \"description\": \"Join Igor Alekseev….\",\\n               \"date\": ISODate(\"Oct32023\")\\n            },\\n            {\\n               \"episodeNumber\": 2,\\n               \"title\": \"The Index: Here’s what you missed last week…\",\\n               \"description\": \"Join Megan Grant…\",\\n               \"date\": ISODate(\"Oct22023\")\\n            }\\n         ]\\n      }\\n   ]\\n}\\n```\\n\\nNow that we have our example set up, let’s incorporate vector embeddings and discuss the proper techniques to set you up for success.\\n\\n## Integrating vector embeddings for vector search in our data model \\n\\nLet’s first understand exactly what vector search is: Vector search is the way to search based on *meaning* rather than specific words. This comes in handy when querying using similarities rather than searching based on keywords. When using vector search, you can query using a question or a phrase rather than just a word. In a nutshell, vector search is great for when you can’t think of *exactly* that book or movie, but you remember the plot or the climax. \\n\\nThis process happens when text, video, or audio is transformed via an encoder into vectors. With MongoDB, we can do this using OpenAI, Hugging Face, or other natural language processing models. Once we have our vectors, we can upload them in the base of our document and conduct vector search using them. Please keep in mind the [current limitations of vector search and how to properly embed your vectors. \\n\\nYou can store your vector embeddings alongside other data in your document, or you can store them in a new collection. It is really up to the user and the project goals. Let’s go over what a document with vector embeddings can look like when you incorporate them into your data model, using the same example from above: \\n\\n```\\n{\\n   \"_id\": ObjectId(\"238478293\"),\\n   \"title\": \"MongoDB TV\",\\n   \"description\": \"All your MongoDB updates, news, videos, and podcast episodes, straight to you!\",\\n   \"genre\": \"Programming\", \"Database\", \"MongoDB\"],\\n   “vectorEmbeddings”: [ 0.25, 0.5, 0.75, 0.1, 0.1, 0.8, 0.2, 0.6, 0.6, 0.4, 0.9, 0.3, 0.2, 0.7, 0.5, 0.8, 0.1, 0.8, 0.2, 0.6 ],\\n   \"seasons\": [\\n      {\\n         \"seasonNumber\": 1,\\n         \"episodes\": [\\n            {\\n               \"episodeNumber\": 1,\\n               \"title\": \"EASY: Build Generative AI Applications\",\\n               \"description\": \"Join Jesse Hall….\",\\n               \"date\": ISODate(\"Oct 5, 2023\")\\n \\n            },\\n            {\\n               \"episodeNumber\": 2,\\n               \"title\": \"RAG Architecture & MongoDB: The Future of Generative AI Apps\",\\n               \"description\": \"Join Prakul Agarwal…\",\\n               \"date\": ISODate(\"Oct 4, 2023\")\\n            }\\n         ]\\n      },\\n      {\\n         \"seasonNumber\": 2,\\n         \"episodes\": [\\n            {\\n               \"episodeNumber\": 1,\\n               \"title\": \"Cloud Connect - Harness the Power of AI/ML and Generative AI on AWS with MongoDB Atlas\",\\n               \"description\": \"Join Igor Alekseev….\",\\n               \"date\": ISODate(\"Oct 3, 2023\")\\n            },\\n            {\\n               \"episodeNumber\": 2,\\n               \"title\": \"The Index: Here’s what you missed last week…\",\\n               \"description\": \"Join Megan Grant…\",\\n               \"date\": ISODate(\"Oct 2, 2023\")\\n            }\\n         ]\\n      }\\n   ]\\n}\\n```\\nHere, you have your vector embeddings classified at the base in your document. Currently, there is a limitation where vector embeddings cannot be nested in an array in your document. Please ensure your document has your embeddings at the base. There are various tutorials on our [Developer Center, alongside our YouTube account and our documentation, that can help you figure out how to embed these vectors into your document and how to acquire the necessary vectors in the first place. \\n\\n## Extras: Indexing with vector search\\n\\nWhen you’re using vector search, it is necessary to create a search index so you’re able to be successful with your semantic search. To do this, please view our Vector Search documentation. Here is the skeleton code provided by our documentation:\\n\\n```\\n{\\n  \"fields\":\\n    {\\n      \"type\": \"vector\",\\n      \"path\": \"\",\\n      \"numDimensions\": ,\\n      \"similarity\": \"euclidean | cosine | dotProduct\"\\n    },\\n    {\\n      \"type\": \"filter\",\\n      \"path\": \"\"\\n    },\\n    ...\\n  ]\\n}\\n```\\n\\nWhen setting up your search index, you want to change the “” to be your vector path. In our case, it would be “vectorEmbeddings”. “type” can stay the way it is. For “numDimensions”, please match the dimensions of the model you’ve chosen. This is just the number of vector dimensions, and the value cannot be greater than 4096. This limitation comes from the base embedding model that is being used, so please ensure you’re using a supported LLM (large language model) such as OpenAI or Hugging Face. When using one of these, there won’t be any issues running into vector dimensions. For “similarity”, please pick which vector function you want to use to search for the top K-nearest neighbors. \\n\\n## Extras: Querying with vector search\\n\\nWhen you’re ready to query and find results from your embedded documents, it’s time to create an aggregation pipeline on your embedded vector data. To do this, you can use the“$vectorSearch” operator, which is a new aggregation stage in Atlas. It helps execute an Approximate Nearest Neighbor query. \\n\\nFor more information on this step, please check out the tutorial on Developer Center about [building generative AI applications, and our YouTube video on vector search.\\n\\n', id='cd7fb344-fe14-4d05-a49a-74b3b99b28d9', tool_call_id='call_NWL9UoWSz69CJMuWgEp1L3M4')]}\n",
      "Node agent:\n",
      "{'messages': [AIMessage(content='The article \"How to Model Your Documents for Vector Search\" discusses the importance of proper data modeling when using vector search in MongoDB. It explains the basics of data modeling in MongoDB, including choosing whether to embed or reference related data, using arrays in a document, and indexing documents. The article then provides an example of a MongoDB document for a TV series, without vector embeddings, and explains how to incorporate vector embeddings into the data model. It also discusses the limitations of vector search and how to properly embed vectors. Additionally, the article covers indexing with vector search and querying with vector search using the \"$vectorSearch\" operator. Overall, the article provides a comprehensive guide to modeling documents for vector search in MongoDB.', additional_kwargs={}, response_metadata={'token_usage': {'prompt_tokens': 2504, 'total_tokens': 2646, 'completion_tokens': 142}, 'model_name': 'accounts/fireworks/models/firefunction-v2', 'system_fingerprint': '', 'finish_reason': 'stop', 'logprobs': None}, id='run-7ff74eb5-1fb4-4128-8374-62112eb7b7f9-0', usage_metadata={'input_tokens': 2504, 'output_tokens': 142, 'total_tokens': 2646})]}\n",
      "---FINAL ANSWER---\n",
      "The article \"How to Model Your Documents for Vector Search\" discusses the importance of proper data modeling when using vector search in MongoDB. It explains the basics of data modeling in MongoDB, including choosing whether to embed or reference related data, using arrays in a document, and indexing documents. The article then provides an example of a MongoDB document for a TV series, without vector embeddings, and explains how to incorporate vector embeddings into the data model. It also discusses the limitations of vector search and how to properly embed vectors. Additionally, the article covers indexing with vector search and querying with vector search using the \"$vectorSearch\" operator. Overall, the article provides a comprehensive guide to modeling documents for vector search in MongoDB.\n"
     ]
    }
   ],
   "source": [
    "execute_graph(\n",
    "    \"Give me a summary of the article titled How to Model Your Documents for Vector Search\"\n",
    ")"
   ]
  },
  {
   "cell_type": "markdown",
   "metadata": {},
   "source": [
    "# Step 12: Add memory to the agent"
   ]
  },
  {
   "cell_type": "code",
   "execution_count": 160,
   "metadata": {},
   "outputs": [],
   "source": [
    "from langgraph.checkpoint.memory import MemorySaver"
   ]
  },
  {
   "cell_type": "code",
   "execution_count": 161,
   "metadata": {},
   "outputs": [],
   "source": [
    "memory = MemorySaver()"
   ]
  },
  {
   "cell_type": "code",
   "execution_count": 162,
   "metadata": {},
   "outputs": [],
   "source": [
    "app = workflow.compile(checkpointer=memory)"
   ]
  },
  {
   "cell_type": "code",
   "execution_count": 163,
   "metadata": {},
   "outputs": [],
   "source": [
    "def execute_graph(thread_id, user_input: str):\n",
    "    input = {\"messages\": [(\"user\", user_input)]}\n",
    "    config = {\"configurable\": {\"thread_id\": thread_id}}\n",
    "    for output in app.stream(input, config):\n",
    "        for key, value in output.items():\n",
    "            print(f\"Node {key}:\")\n",
    "            print(value)\n",
    "    print(\"---FINAL ANSWER---\")\n",
    "    print(value[\"messages\"][-1].content)"
   ]
  },
  {
   "cell_type": "code",
   "execution_count": 164,
   "metadata": {},
   "outputs": [
    {
     "name": "stdout",
     "output_type": "stream",
     "text": [
      "Node agent:\n",
      "{'messages': [AIMessage(content='', additional_kwargs={'tool_calls': [{'index': 0, 'id': 'call_ruM1v67OQVDnTuJWyqMG1Vcw', 'type': 'function', 'function': {'name': 'get_article_content_for_summarization', 'arguments': '{\"user_query\": \"How to Model Your Documents for Vector Search\"}'}}]}, response_metadata={'token_usage': {'prompt_tokens': 595, 'total_tokens': 628, 'completion_tokens': 33}, 'model_name': 'accounts/fireworks/models/firefunction-v2', 'system_fingerprint': '', 'finish_reason': 'tool_calls', 'logprobs': None}, id='run-f51e6ad0-707e-4a11-a72b-e2cfa7e0ba43-0', tool_calls=[{'name': 'get_article_content_for_summarization', 'args': {'user_query': 'How to Model Your Documents for Vector Search'}, 'id': 'call_ruM1v67OQVDnTuJWyqMG1Vcw', 'type': 'tool_call'}], usage_metadata={'input_tokens': 595, 'output_tokens': 33, 'total_tokens': 628})]}\n",
      "Node tools:\n",
      "{'messages': [ToolMessage(content='# How to Model Your Documents for Vector Search\\n\\nAtlas Vector Search was recently released, so let’s dive into a tutorial on how to properly model your documents when utilizing vector search to revolutionize your querying capabilities!\\n\\n## Data modeling normally in MongoDB\\n\\nVector search is new, so let’s first go over the basic ways of modeling your data in a MongoDB document before continuing on into how to incorporate vector embeddings. \\n\\nData modeling in MongoDB revolves around organizing your data into documents within various collections. Varied projects or organizations will require different ways of structuring data models due to the fact that successful data modeling depends on the specific requirements of each application, and for the most part, no one document design can be applied for every situation. There are some commonalities, though, that can guide the user. These are:\\n\\n 1. Choosing whether to embed or reference your related data. \\n 2. Using arrays in a document.\\n 3. Indexing your documents (finding fields that are frequently used and applying the appropriate indexing, etc.).\\n\\nFor a more in-depth explanation and a comprehensive guide of data modeling with MongoDB, please check out our data modeling article.\\n\\n## Setting up an example data model\\n\\nWe are going to be building our vector embedding example using a MongoDB document for our MongoDB TV series. Here, we have a single MongoDB document representing our MongoDB TV show, without any embeddings in place. We have a nested array featuring our array of seasons, and within that, our array of different episodes. This way, in our document, we are capable of seeing exactly which season each episode is a part of, along with the episode number, the title, the description, and the date: \\n\\n```\\n{\\n   \"_id\": ObjectId(\"238478293\"),\\n   \"title\": \"MongoDB TV\",\\n   \"description\": \"All your MongoDB updates, news, videos, and podcast episodes, straight to you!\",\\n   \"genre\": \"Programming\", \"Database\", \"MongoDB\"],\\n   \"seasons\": [\\n      {\\n         \"seasonNumber\": 1,\\n         \"episodes\": [\\n            {\\n               \"episodeNumber\": 1,\\n               \"title\": \"EASY: Build Generative AI Applications\",\\n               \"description\": \"Join Jesse Hall….\",\\n               \"date\": ISODate(\"Oct52023\")\\n            },\\n            {\\n               \"episodeNumber\": 2,\\n               \"title\": \"RAG Architecture & MongoDB: The Future of Generative AI Apps\",\\n               \"description\": \"Join Prakul Agarwal…\",\\n               \"date\": ISODate(\"Oct42023\")\\n            }\\n         ]\\n      },\\n      {\\n         \"seasonNumber\": 2,\\n         \"episodes\": [\\n            {\\n               \"episodeNumber\": 1,\\n               \"title\": \"Cloud Connect - Harness the Power of AI/ML and Generative AI on AWS with MongoDB Atlas\",\\n               \"description\": \"Join Igor Alekseev….\",\\n               \"date\": ISODate(\"Oct32023\")\\n            },\\n            {\\n               \"episodeNumber\": 2,\\n               \"title\": \"The Index: Here’s what you missed last week…\",\\n               \"description\": \"Join Megan Grant…\",\\n               \"date\": ISODate(\"Oct22023\")\\n            }\\n         ]\\n      }\\n   ]\\n}\\n```\\n\\nNow that we have our example set up, let’s incorporate vector embeddings and discuss the proper techniques to set you up for success.\\n\\n## Integrating vector embeddings for vector search in our data model \\n\\nLet’s first understand exactly what vector search is: Vector search is the way to search based on *meaning* rather than specific words. This comes in handy when querying using similarities rather than searching based on keywords. When using vector search, you can query using a question or a phrase rather than just a word. In a nutshell, vector search is great for when you can’t think of *exactly* that book or movie, but you remember the plot or the climax. \\n\\nThis process happens when text, video, or audio is transformed via an encoder into vectors. With MongoDB, we can do this using OpenAI, Hugging Face, or other natural language processing models. Once we have our vectors, we can upload them in the base of our document and conduct vector search using them. Please keep in mind the [current limitations of vector search and how to properly embed your vectors. \\n\\nYou can store your vector embeddings alongside other data in your document, or you can store them in a new collection. It is really up to the user and the project goals. Let’s go over what a document with vector embeddings can look like when you incorporate them into your data model, using the same example from above: \\n\\n```\\n{\\n   \"_id\": ObjectId(\"238478293\"),\\n   \"title\": \"MongoDB TV\",\\n   \"description\": \"All your MongoDB updates, news, videos, and podcast episodes, straight to you!\",\\n   \"genre\": \"Programming\", \"Database\", \"MongoDB\"],\\n   “vectorEmbeddings”: [ 0.25, 0.5, 0.75, 0.1, 0.1, 0.8, 0.2, 0.6, 0.6, 0.4, 0.9, 0.3, 0.2, 0.7, 0.5, 0.8, 0.1, 0.8, 0.2, 0.6 ],\\n   \"seasons\": [\\n      {\\n         \"seasonNumber\": 1,\\n         \"episodes\": [\\n            {\\n               \"episodeNumber\": 1,\\n               \"title\": \"EASY: Build Generative AI Applications\",\\n               \"description\": \"Join Jesse Hall….\",\\n               \"date\": ISODate(\"Oct 5, 2023\")\\n \\n            },\\n            {\\n               \"episodeNumber\": 2,\\n               \"title\": \"RAG Architecture & MongoDB: The Future of Generative AI Apps\",\\n               \"description\": \"Join Prakul Agarwal…\",\\n               \"date\": ISODate(\"Oct 4, 2023\")\\n            }\\n         ]\\n      },\\n      {\\n         \"seasonNumber\": 2,\\n         \"episodes\": [\\n            {\\n               \"episodeNumber\": 1,\\n               \"title\": \"Cloud Connect - Harness the Power of AI/ML and Generative AI on AWS with MongoDB Atlas\",\\n               \"description\": \"Join Igor Alekseev….\",\\n               \"date\": ISODate(\"Oct 3, 2023\")\\n            },\\n            {\\n               \"episodeNumber\": 2,\\n               \"title\": \"The Index: Here’s what you missed last week…\",\\n               \"description\": \"Join Megan Grant…\",\\n               \"date\": ISODate(\"Oct 2, 2023\")\\n            }\\n         ]\\n      }\\n   ]\\n}\\n```\\nHere, you have your vector embeddings classified at the base in your document. Currently, there is a limitation where vector embeddings cannot be nested in an array in your document. Please ensure your document has your embeddings at the base. There are various tutorials on our [Developer Center, alongside our YouTube account and our documentation, that can help you figure out how to embed these vectors into your document and how to acquire the necessary vectors in the first place. \\n\\n## Extras: Indexing with vector search\\n\\nWhen you’re using vector search, it is necessary to create a search index so you’re able to be successful with your semantic search. To do this, please view our Vector Search documentation. Here is the skeleton code provided by our documentation:\\n\\n```\\n{\\n  \"fields\":\\n    {\\n      \"type\": \"vector\",\\n      \"path\": \"\",\\n      \"numDimensions\": ,\\n      \"similarity\": \"euclidean | cosine | dotProduct\"\\n    },\\n    {\\n      \"type\": \"filter\",\\n      \"path\": \"\"\\n    },\\n    ...\\n  ]\\n}\\n```\\n\\nWhen setting up your search index, you want to change the “” to be your vector path. In our case, it would be “vectorEmbeddings”. “type” can stay the way it is. For “numDimensions”, please match the dimensions of the model you’ve chosen. This is just the number of vector dimensions, and the value cannot be greater than 4096. This limitation comes from the base embedding model that is being used, so please ensure you’re using a supported LLM (large language model) such as OpenAI or Hugging Face. When using one of these, there won’t be any issues running into vector dimensions. For “similarity”, please pick which vector function you want to use to search for the top K-nearest neighbors. \\n\\n## Extras: Querying with vector search\\n\\nWhen you’re ready to query and find results from your embedded documents, it’s time to create an aggregation pipeline on your embedded vector data. To do this, you can use the“$vectorSearch” operator, which is a new aggregation stage in Atlas. It helps execute an Approximate Nearest Neighbor query. \\n\\nFor more information on this step, please check out the tutorial on Developer Center about [building generative AI applications, and our YouTube video on vector search.\\n\\n', id='959202e7-914b-445f-9697-9f9f9f22dfd0', tool_call_id='call_ruM1v67OQVDnTuJWyqMG1Vcw')]}\n",
      "Node agent:\n",
      "{'messages': [AIMessage(content='The article \"How to Model Your Documents for Vector Search\" discusses the importance of proper data modeling when using vector search in MongoDB. It explains the basics of data modeling in MongoDB, including choosing whether to embed or reference related data, using arrays in a document, and indexing documents. The article then provides an example of a MongoDB document for a TV series, without vector embeddings, and explains how to incorporate vector embeddings into the data model. It also discusses the limitations of vector search and how to properly embed vectors. Additionally, the article covers indexing with vector search and querying with vector search using the \"$vectorSearch\" operator. Overall, the article provides a comprehensive guide to modeling documents for vector search in MongoDB.', additional_kwargs={}, response_metadata={'token_usage': {'prompt_tokens': 2504, 'total_tokens': 2646, 'completion_tokens': 142}, 'model_name': 'accounts/fireworks/models/firefunction-v2', 'system_fingerprint': '', 'finish_reason': 'stop', 'logprobs': None}, id='run-7de4b8c9-af85-4c5f-8bce-3754b9202d5f-0', usage_metadata={'input_tokens': 2504, 'output_tokens': 142, 'total_tokens': 2646})]}\n",
      "---FINAL ANSWER---\n",
      "The article \"How to Model Your Documents for Vector Search\" discusses the importance of proper data modeling when using vector search in MongoDB. It explains the basics of data modeling in MongoDB, including choosing whether to embed or reference related data, using arrays in a document, and indexing documents. The article then provides an example of a MongoDB document for a TV series, without vector embeddings, and explains how to incorporate vector embeddings into the data model. It also discusses the limitations of vector search and how to properly embed vectors. Additionally, the article covers indexing with vector search and querying with vector search using the \"$vectorSearch\" operator. Overall, the article provides a comprehensive guide to modeling documents for vector search in MongoDB.\n"
     ]
    }
   ],
   "source": [
    "execute_graph(\n",
    "    \"1\",\n",
    "    \"Give me a summary of the article titled How to Model Your Documents for Vector Search\",\n",
    ")"
   ]
  },
  {
   "cell_type": "code",
   "execution_count": 165,
   "metadata": {},
   "outputs": [
    {
     "name": "stdout",
     "output_type": "stream",
     "text": [
      "Node agent:\n",
      "{'messages': [AIMessage(content='You asked me to summarize the article titled \"How to Model Your Documents for Vector Search\".', additional_kwargs={}, response_metadata={'token_usage': {'prompt_tokens': 2662, 'total_tokens': 2681, 'completion_tokens': 19}, 'model_name': 'accounts/fireworks/models/firefunction-v2', 'system_fingerprint': '', 'finish_reason': 'stop', 'logprobs': None}, id='run-6f7b4458-d4a4-468c-b61c-c602f121d4c6-0', usage_metadata={'input_tokens': 2662, 'output_tokens': 19, 'total_tokens': 2681})]}\n",
      "---FINAL ANSWER---\n",
      "You asked me to summarize the article titled \"How to Model Your Documents for Vector Search\".\n"
     ]
    }
   ],
   "source": [
    "execute_graph(\n",
    "    \"1\",\n",
    "    \"What did I just ask you?\",\n",
    ")"
   ]
  }
 ],
 "metadata": {
  "colab": {
   "collapsed_sections": [
    "RM8rg08YhqZe",
    "UUf3jtFzO4-V",
    "Sm5QZdshwJLN"
   ],
   "provenance": []
  },
  "kernelspec": {
   "display_name": "Python 3 (ipykernel)",
   "language": "python",
   "name": "python3"
  },
  "language_info": {
   "codemirror_mode": {
    "name": "ipython",
    "version": 3
   },
   "file_extension": ".py",
   "mimetype": "text/x-python",
   "name": "python",
   "nbconvert_exporter": "python",
   "pygments_lexer": "ipython3",
   "version": "3.12.1"
  },
  "widgets": {
   "application/vnd.jupyter.widget-state+json": {
    "09dcf4ce88064f11980bbefaad1ebc75": {
     "model_module": "@jupyter-widgets/controls",
     "model_module_version": "1.5.0",
     "model_name": "HTMLModel",
     "state": {
      "_dom_classes": [],
      "_model_module": "@jupyter-widgets/controls",
      "_model_module_version": "1.5.0",
      "_model_name": "HTMLModel",
      "_view_count": null,
      "_view_module": "@jupyter-widgets/controls",
      "_view_module_version": "1.5.0",
      "_view_name": "HTMLView",
      "description": "",
      "description_tooltip": null,
      "layout": "IPY_MODEL_39563df9477648398456675ec51075aa",
      "placeholder": "​",
      "style": "IPY_MODEL_f4353368efbd4c3891f805ddc3d05e1b",
      "value": "Downloading data: 100%"
     }
    },
    "164d16df28d24ab796b7c9cf85174800": {
     "model_module": "@jupyter-widgets/controls",
     "model_module_version": "1.5.0",
     "model_name": "HTMLModel",
     "state": {
      "_dom_classes": [],
      "_model_module": "@jupyter-widgets/controls",
      "_model_module_version": "1.5.0",
      "_model_name": "HTMLModel",
      "_view_count": null,
      "_view_module": "@jupyter-widgets/controls",
      "_view_module_version": "1.5.0",
      "_view_name": "HTMLView",
      "description": "",
      "description_tooltip": null,
      "layout": "IPY_MODEL_95e4af5b420242b7a6b74a18cad98961",
      "placeholder": "​",
      "style": "IPY_MODEL_dff65b579f0746ffae8739ecb0aa5a41",
      "value": "Generating train split: "
     }
    },
    "20d693a09c534414a5c4c0dd58cf94ed": {
     "model_module": "@jupyter-widgets/controls",
     "model_module_version": "1.5.0",
     "model_name": "ProgressStyleModel",
     "state": {
      "_model_module": "@jupyter-widgets/controls",
      "_model_module_version": "1.5.0",
      "_model_name": "ProgressStyleModel",
      "_view_count": null,
      "_view_module": "@jupyter-widgets/base",
      "_view_module_version": "1.2.0",
      "_view_name": "StyleView",
      "bar_color": null,
      "description_width": ""
     }
    },
    "278513c5a8b04a24b1823d38107f1e50": {
     "model_module": "@jupyter-widgets/controls",
     "model_module_version": "1.5.0",
     "model_name": "HTMLModel",
     "state": {
      "_dom_classes": [],
      "_model_module": "@jupyter-widgets/controls",
      "_model_module_version": "1.5.0",
      "_model_name": "HTMLModel",
      "_view_count": null,
      "_view_module": "@jupyter-widgets/controls",
      "_view_module_version": "1.5.0",
      "_view_name": "HTMLView",
      "description": "",
      "description_tooltip": null,
      "layout": "IPY_MODEL_62e196b6d30746578e137c50b661f946",
      "placeholder": "​",
      "style": "IPY_MODEL_ced7f9d61e06442a960dcda95852048e",
      "value": " 102M/102M [00:06&lt;00:00, 20.6MB/s]"
     }
    },
    "30fe0bcd02cb47f3ba23bb480e2eaaea": {
     "model_module": "@jupyter-widgets/base",
     "model_module_version": "1.2.0",
     "model_name": "LayoutModel",
     "state": {
      "_model_module": "@jupyter-widgets/base",
      "_model_module_version": "1.2.0",
      "_model_name": "LayoutModel",
      "_view_count": null,
      "_view_module": "@jupyter-widgets/base",
      "_view_module_version": "1.2.0",
      "_view_name": "LayoutView",
      "align_content": null,
      "align_items": null,
      "align_self": null,
      "border": null,
      "bottom": null,
      "display": null,
      "flex": null,
      "flex_flow": null,
      "grid_area": null,
      "grid_auto_columns": null,
      "grid_auto_flow": null,
      "grid_auto_rows": null,
      "grid_column": null,
      "grid_gap": null,
      "grid_row": null,
      "grid_template_areas": null,
      "grid_template_columns": null,
      "grid_template_rows": null,
      "height": null,
      "justify_content": null,
      "justify_items": null,
      "left": null,
      "margin": null,
      "max_height": null,
      "max_width": null,
      "min_height": null,
      "min_width": null,
      "object_fit": null,
      "object_position": null,
      "order": null,
      "overflow": null,
      "overflow_x": null,
      "overflow_y": null,
      "padding": null,
      "right": null,
      "top": null,
      "visibility": null,
      "width": null
     }
    },
    "373ed3b6307741859ab297c270cf42c8": {
     "model_module": "@jupyter-widgets/controls",
     "model_module_version": "1.5.0",
     "model_name": "DescriptionStyleModel",
     "state": {
      "_model_module": "@jupyter-widgets/controls",
      "_model_module_version": "1.5.0",
      "_model_name": "DescriptionStyleModel",
      "_view_count": null,
      "_view_module": "@jupyter-widgets/base",
      "_view_module_version": "1.2.0",
      "_view_name": "StyleView",
      "description_width": ""
     }
    },
    "39563df9477648398456675ec51075aa": {
     "model_module": "@jupyter-widgets/base",
     "model_module_version": "1.2.0",
     "model_name": "LayoutModel",
     "state": {
      "_model_module": "@jupyter-widgets/base",
      "_model_module_version": "1.2.0",
      "_model_name": "LayoutModel",
      "_view_count": null,
      "_view_module": "@jupyter-widgets/base",
      "_view_module_version": "1.2.0",
      "_view_name": "LayoutView",
      "align_content": null,
      "align_items": null,
      "align_self": null,
      "border": null,
      "bottom": null,
      "display": null,
      "flex": null,
      "flex_flow": null,
      "grid_area": null,
      "grid_auto_columns": null,
      "grid_auto_flow": null,
      "grid_auto_rows": null,
      "grid_column": null,
      "grid_gap": null,
      "grid_row": null,
      "grid_template_areas": null,
      "grid_template_columns": null,
      "grid_template_rows": null,
      "height": null,
      "justify_content": null,
      "justify_items": null,
      "left": null,
      "margin": null,
      "max_height": null,
      "max_width": null,
      "min_height": null,
      "min_width": null,
      "object_fit": null,
      "object_position": null,
      "order": null,
      "overflow": null,
      "overflow_x": null,
      "overflow_y": null,
      "padding": null,
      "right": null,
      "top": null,
      "visibility": null,
      "width": null
     }
    },
    "41056c822b9d44559147d2b21416b956": {
     "model_module": "@jupyter-widgets/controls",
     "model_module_version": "1.5.0",
     "model_name": "HTMLModel",
     "state": {
      "_dom_classes": [],
      "_model_module": "@jupyter-widgets/controls",
      "_model_module_version": "1.5.0",
      "_model_name": "HTMLModel",
      "_view_count": null,
      "_view_module": "@jupyter-widgets/controls",
      "_view_module_version": "1.5.0",
      "_view_name": "HTMLView",
      "description": "",
      "description_tooltip": null,
      "layout": "IPY_MODEL_a43c349d171e469c8cc94d48060f775b",
      "placeholder": "​",
      "style": "IPY_MODEL_373ed3b6307741859ab297c270cf42c8",
      "value": " 50000/0 [00:04&lt;00:00, 12390.43 examples/s]"
     }
    },
    "62e196b6d30746578e137c50b661f946": {
     "model_module": "@jupyter-widgets/base",
     "model_module_version": "1.2.0",
     "model_name": "LayoutModel",
     "state": {
      "_model_module": "@jupyter-widgets/base",
      "_model_module_version": "1.2.0",
      "_model_name": "LayoutModel",
      "_view_count": null,
      "_view_module": "@jupyter-widgets/base",
      "_view_module_version": "1.2.0",
      "_view_name": "LayoutView",
      "align_content": null,
      "align_items": null,
      "align_self": null,
      "border": null,
      "bottom": null,
      "display": null,
      "flex": null,
      "flex_flow": null,
      "grid_area": null,
      "grid_auto_columns": null,
      "grid_auto_flow": null,
      "grid_auto_rows": null,
      "grid_column": null,
      "grid_gap": null,
      "grid_row": null,
      "grid_template_areas": null,
      "grid_template_columns": null,
      "grid_template_rows": null,
      "height": null,
      "justify_content": null,
      "justify_items": null,
      "left": null,
      "margin": null,
      "max_height": null,
      "max_width": null,
      "min_height": null,
      "min_width": null,
      "object_fit": null,
      "object_position": null,
      "order": null,
      "overflow": null,
      "overflow_x": null,
      "overflow_y": null,
      "padding": null,
      "right": null,
      "top": null,
      "visibility": null,
      "width": null
     }
    },
    "7dbfebff68ff45628da832fac5233c93": {
     "model_module": "@jupyter-widgets/controls",
     "model_module_version": "1.5.0",
     "model_name": "HBoxModel",
     "state": {
      "_dom_classes": [],
      "_model_module": "@jupyter-widgets/controls",
      "_model_module_version": "1.5.0",
      "_model_name": "HBoxModel",
      "_view_count": null,
      "_view_module": "@jupyter-widgets/controls",
      "_view_module_version": "1.5.0",
      "_view_name": "HBoxView",
      "box_style": "",
      "children": [
       "IPY_MODEL_164d16df28d24ab796b7c9cf85174800",
       "IPY_MODEL_e70e0d317f1e4e73bd95349ed1510cce",
       "IPY_MODEL_41056c822b9d44559147d2b21416b956"
      ],
      "layout": "IPY_MODEL_b1929fb112174c0abcd8004f6be0f880"
     }
    },
    "95e4af5b420242b7a6b74a18cad98961": {
     "model_module": "@jupyter-widgets/base",
     "model_module_version": "1.2.0",
     "model_name": "LayoutModel",
     "state": {
      "_model_module": "@jupyter-widgets/base",
      "_model_module_version": "1.2.0",
      "_model_name": "LayoutModel",
      "_view_count": null,
      "_view_module": "@jupyter-widgets/base",
      "_view_module_version": "1.2.0",
      "_view_name": "LayoutView",
      "align_content": null,
      "align_items": null,
      "align_self": null,
      "border": null,
      "bottom": null,
      "display": null,
      "flex": null,
      "flex_flow": null,
      "grid_area": null,
      "grid_auto_columns": null,
      "grid_auto_flow": null,
      "grid_auto_rows": null,
      "grid_column": null,
      "grid_gap": null,
      "grid_row": null,
      "grid_template_areas": null,
      "grid_template_columns": null,
      "grid_template_rows": null,
      "height": null,
      "justify_content": null,
      "justify_items": null,
      "left": null,
      "margin": null,
      "max_height": null,
      "max_width": null,
      "min_height": null,
      "min_width": null,
      "object_fit": null,
      "object_position": null,
      "order": null,
      "overflow": null,
      "overflow_x": null,
      "overflow_y": null,
      "padding": null,
      "right": null,
      "top": null,
      "visibility": null,
      "width": null
     }
    },
    "a43c349d171e469c8cc94d48060f775b": {
     "model_module": "@jupyter-widgets/base",
     "model_module_version": "1.2.0",
     "model_name": "LayoutModel",
     "state": {
      "_model_module": "@jupyter-widgets/base",
      "_model_module_version": "1.2.0",
      "_model_name": "LayoutModel",
      "_view_count": null,
      "_view_module": "@jupyter-widgets/base",
      "_view_module_version": "1.2.0",
      "_view_name": "LayoutView",
      "align_content": null,
      "align_items": null,
      "align_self": null,
      "border": null,
      "bottom": null,
      "display": null,
      "flex": null,
      "flex_flow": null,
      "grid_area": null,
      "grid_auto_columns": null,
      "grid_auto_flow": null,
      "grid_auto_rows": null,
      "grid_column": null,
      "grid_gap": null,
      "grid_row": null,
      "grid_template_areas": null,
      "grid_template_columns": null,
      "grid_template_rows": null,
      "height": null,
      "justify_content": null,
      "justify_items": null,
      "left": null,
      "margin": null,
      "max_height": null,
      "max_width": null,
      "min_height": null,
      "min_width": null,
      "object_fit": null,
      "object_position": null,
      "order": null,
      "overflow": null,
      "overflow_x": null,
      "overflow_y": null,
      "padding": null,
      "right": null,
      "top": null,
      "visibility": null,
      "width": null
     }
    },
    "b1929fb112174c0abcd8004f6be0f880": {
     "model_module": "@jupyter-widgets/base",
     "model_module_version": "1.2.0",
     "model_name": "LayoutModel",
     "state": {
      "_model_module": "@jupyter-widgets/base",
      "_model_module_version": "1.2.0",
      "_model_name": "LayoutModel",
      "_view_count": null,
      "_view_module": "@jupyter-widgets/base",
      "_view_module_version": "1.2.0",
      "_view_name": "LayoutView",
      "align_content": null,
      "align_items": null,
      "align_self": null,
      "border": null,
      "bottom": null,
      "display": null,
      "flex": null,
      "flex_flow": null,
      "grid_area": null,
      "grid_auto_columns": null,
      "grid_auto_flow": null,
      "grid_auto_rows": null,
      "grid_column": null,
      "grid_gap": null,
      "grid_row": null,
      "grid_template_areas": null,
      "grid_template_columns": null,
      "grid_template_rows": null,
      "height": null,
      "justify_content": null,
      "justify_items": null,
      "left": null,
      "margin": null,
      "max_height": null,
      "max_width": null,
      "min_height": null,
      "min_width": null,
      "object_fit": null,
      "object_position": null,
      "order": null,
      "overflow": null,
      "overflow_x": null,
      "overflow_y": null,
      "padding": null,
      "right": null,
      "top": null,
      "visibility": null,
      "width": null
     }
    },
    "cebfba144ba6418092df949783f93455": {
     "model_module": "@jupyter-widgets/controls",
     "model_module_version": "1.5.0",
     "model_name": "HBoxModel",
     "state": {
      "_dom_classes": [],
      "_model_module": "@jupyter-widgets/controls",
      "_model_module_version": "1.5.0",
      "_model_name": "HBoxModel",
      "_view_count": null,
      "_view_module": "@jupyter-widgets/controls",
      "_view_module_version": "1.5.0",
      "_view_name": "HBoxView",
      "box_style": "",
      "children": [
       "IPY_MODEL_09dcf4ce88064f11980bbefaad1ebc75",
       "IPY_MODEL_f2bd7bda4d0c4d93b88e53aeb4e1b62d",
       "IPY_MODEL_278513c5a8b04a24b1823d38107f1e50"
      ],
      "layout": "IPY_MODEL_d3941c633788427abb858b21e285088f"
     }
    },
    "ced7f9d61e06442a960dcda95852048e": {
     "model_module": "@jupyter-widgets/controls",
     "model_module_version": "1.5.0",
     "model_name": "DescriptionStyleModel",
     "state": {
      "_model_module": "@jupyter-widgets/controls",
      "_model_module_version": "1.5.0",
      "_model_name": "DescriptionStyleModel",
      "_view_count": null,
      "_view_module": "@jupyter-widgets/base",
      "_view_module_version": "1.2.0",
      "_view_name": "StyleView",
      "description_width": ""
     }
    },
    "d17d8c8f45ee44cd87dcd787c05dbdc3": {
     "model_module": "@jupyter-widgets/controls",
     "model_module_version": "1.5.0",
     "model_name": "ProgressStyleModel",
     "state": {
      "_model_module": "@jupyter-widgets/controls",
      "_model_module_version": "1.5.0",
      "_model_name": "ProgressStyleModel",
      "_view_count": null,
      "_view_module": "@jupyter-widgets/base",
      "_view_module_version": "1.2.0",
      "_view_name": "StyleView",
      "bar_color": null,
      "description_width": ""
     }
    },
    "d3941c633788427abb858b21e285088f": {
     "model_module": "@jupyter-widgets/base",
     "model_module_version": "1.2.0",
     "model_name": "LayoutModel",
     "state": {
      "_model_module": "@jupyter-widgets/base",
      "_model_module_version": "1.2.0",
      "_model_name": "LayoutModel",
      "_view_count": null,
      "_view_module": "@jupyter-widgets/base",
      "_view_module_version": "1.2.0",
      "_view_name": "LayoutView",
      "align_content": null,
      "align_items": null,
      "align_self": null,
      "border": null,
      "bottom": null,
      "display": null,
      "flex": null,
      "flex_flow": null,
      "grid_area": null,
      "grid_auto_columns": null,
      "grid_auto_flow": null,
      "grid_auto_rows": null,
      "grid_column": null,
      "grid_gap": null,
      "grid_row": null,
      "grid_template_areas": null,
      "grid_template_columns": null,
      "grid_template_rows": null,
      "height": null,
      "justify_content": null,
      "justify_items": null,
      "left": null,
      "margin": null,
      "max_height": null,
      "max_width": null,
      "min_height": null,
      "min_width": null,
      "object_fit": null,
      "object_position": null,
      "order": null,
      "overflow": null,
      "overflow_x": null,
      "overflow_y": null,
      "padding": null,
      "right": null,
      "top": null,
      "visibility": null,
      "width": null
     }
    },
    "dff65b579f0746ffae8739ecb0aa5a41": {
     "model_module": "@jupyter-widgets/controls",
     "model_module_version": "1.5.0",
     "model_name": "DescriptionStyleModel",
     "state": {
      "_model_module": "@jupyter-widgets/controls",
      "_model_module_version": "1.5.0",
      "_model_name": "DescriptionStyleModel",
      "_view_count": null,
      "_view_module": "@jupyter-widgets/base",
      "_view_module_version": "1.2.0",
      "_view_name": "StyleView",
      "description_width": ""
     }
    },
    "e70e0d317f1e4e73bd95349ed1510cce": {
     "model_module": "@jupyter-widgets/controls",
     "model_module_version": "1.5.0",
     "model_name": "FloatProgressModel",
     "state": {
      "_dom_classes": [],
      "_model_module": "@jupyter-widgets/controls",
      "_model_module_version": "1.5.0",
      "_model_name": "FloatProgressModel",
      "_view_count": null,
      "_view_module": "@jupyter-widgets/controls",
      "_view_module_version": "1.5.0",
      "_view_name": "ProgressView",
      "bar_style": "success",
      "description": "",
      "description_tooltip": null,
      "layout": "IPY_MODEL_f73ae771c24645c79fd41409a8fc7b34",
      "max": 1,
      "min": 0,
      "orientation": "horizontal",
      "style": "IPY_MODEL_20d693a09c534414a5c4c0dd58cf94ed",
      "value": 1
     }
    },
    "f2bd7bda4d0c4d93b88e53aeb4e1b62d": {
     "model_module": "@jupyter-widgets/controls",
     "model_module_version": "1.5.0",
     "model_name": "FloatProgressModel",
     "state": {
      "_dom_classes": [],
      "_model_module": "@jupyter-widgets/controls",
      "_model_module_version": "1.5.0",
      "_model_name": "FloatProgressModel",
      "_view_count": null,
      "_view_module": "@jupyter-widgets/controls",
      "_view_module_version": "1.5.0",
      "_view_name": "ProgressView",
      "bar_style": "success",
      "description": "",
      "description_tooltip": null,
      "layout": "IPY_MODEL_30fe0bcd02cb47f3ba23bb480e2eaaea",
      "max": 102202622,
      "min": 0,
      "orientation": "horizontal",
      "style": "IPY_MODEL_d17d8c8f45ee44cd87dcd787c05dbdc3",
      "value": 102202622
     }
    },
    "f4353368efbd4c3891f805ddc3d05e1b": {
     "model_module": "@jupyter-widgets/controls",
     "model_module_version": "1.5.0",
     "model_name": "DescriptionStyleModel",
     "state": {
      "_model_module": "@jupyter-widgets/controls",
      "_model_module_version": "1.5.0",
      "_model_name": "DescriptionStyleModel",
      "_view_count": null,
      "_view_module": "@jupyter-widgets/base",
      "_view_module_version": "1.2.0",
      "_view_name": "StyleView",
      "description_width": ""
     }
    },
    "f73ae771c24645c79fd41409a8fc7b34": {
     "model_module": "@jupyter-widgets/base",
     "model_module_version": "1.2.0",
     "model_name": "LayoutModel",
     "state": {
      "_model_module": "@jupyter-widgets/base",
      "_model_module_version": "1.2.0",
      "_model_name": "LayoutModel",
      "_view_count": null,
      "_view_module": "@jupyter-widgets/base",
      "_view_module_version": "1.2.0",
      "_view_name": "LayoutView",
      "align_content": null,
      "align_items": null,
      "align_self": null,
      "border": null,
      "bottom": null,
      "display": null,
      "flex": null,
      "flex_flow": null,
      "grid_area": null,
      "grid_auto_columns": null,
      "grid_auto_flow": null,
      "grid_auto_rows": null,
      "grid_column": null,
      "grid_gap": null,
      "grid_row": null,
      "grid_template_areas": null,
      "grid_template_columns": null,
      "grid_template_rows": null,
      "height": null,
      "justify_content": null,
      "justify_items": null,
      "left": null,
      "margin": null,
      "max_height": null,
      "max_width": null,
      "min_height": null,
      "min_width": null,
      "object_fit": null,
      "object_position": null,
      "order": null,
      "overflow": null,
      "overflow_x": null,
      "overflow_y": null,
      "padding": null,
      "right": null,
      "top": null,
      "visibility": null,
      "width": "20px"
     }
    }
   }
  }
 },
 "nbformat": 4,
 "nbformat_minor": 4
}
